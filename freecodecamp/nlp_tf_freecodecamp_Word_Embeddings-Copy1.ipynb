{
 "cells": [
  {
   "cell_type": "code",
   "execution_count": null,
   "metadata": {},
   "outputs": [],
   "source": []
  },
  {
   "cell_type": "markdown",
   "metadata": {},
   "source": [
    "##  Word Embeddings"
   ]
  },
  {
   "cell_type": "code",
   "execution_count": null,
   "metadata": {
    "id": "2D5E9eSEvYXE",
    "scrolled": true
   },
   "outputs": [
    {
     "name": "stderr",
     "output_type": "stream",
     "text": [
      "C:\\Users\\Rakibul\\.conda\\envs\\ml-36-common\\lib\\site-packages\\tensorflow\\python\\framework\\dtypes.py:516: FutureWarning: Passing (type, 1) or '1type' as a synonym of type is deprecated; in a future version of numpy, it will be understood as (type, (1,)) / '(1,)type'.\n",
      "  _np_qint8 = np.dtype([(\"qint8\", np.int8, 1)])\n",
      "C:\\Users\\Rakibul\\.conda\\envs\\ml-36-common\\lib\\site-packages\\tensorflow\\python\\framework\\dtypes.py:517: FutureWarning: Passing (type, 1) or '1type' as a synonym of type is deprecated; in a future version of numpy, it will be understood as (type, (1,)) / '(1,)type'.\n",
      "  _np_quint8 = np.dtype([(\"quint8\", np.uint8, 1)])\n",
      "C:\\Users\\Rakibul\\.conda\\envs\\ml-36-common\\lib\\site-packages\\tensorflow\\python\\framework\\dtypes.py:518: FutureWarning: Passing (type, 1) or '1type' as a synonym of type is deprecated; in a future version of numpy, it will be understood as (type, (1,)) / '(1,)type'.\n",
      "  _np_qint16 = np.dtype([(\"qint16\", np.int16, 1)])\n",
      "C:\\Users\\Rakibul\\.conda\\envs\\ml-36-common\\lib\\site-packages\\tensorflow\\python\\framework\\dtypes.py:519: FutureWarning: Passing (type, 1) or '1type' as a synonym of type is deprecated; in a future version of numpy, it will be understood as (type, (1,)) / '(1,)type'.\n",
      "  _np_quint16 = np.dtype([(\"quint16\", np.uint16, 1)])\n",
      "C:\\Users\\Rakibul\\.conda\\envs\\ml-36-common\\lib\\site-packages\\tensorflow\\python\\framework\\dtypes.py:520: FutureWarning: Passing (type, 1) or '1type' as a synonym of type is deprecated; in a future version of numpy, it will be understood as (type, (1,)) / '(1,)type'.\n",
      "  _np_qint32 = np.dtype([(\"qint32\", np.int32, 1)])\n",
      "C:\\Users\\Rakibul\\.conda\\envs\\ml-36-common\\lib\\site-packages\\tensorflow\\python\\framework\\dtypes.py:525: FutureWarning: Passing (type, 1) or '1type' as a synonym of type is deprecated; in a future version of numpy, it will be understood as (type, (1,)) / '(1,)type'.\n",
      "  np_resource = np.dtype([(\"resource\", np.ubyte, 1)])\n"
     ]
    }
   ],
   "source": [
    "import io\n",
    "import matplotlib.pyplot as plt\n",
    "import tensorflow as tf \n",
    "from tensorflow.keras import layers\n",
    "from tensorflow import keras\n",
    "import tensorflow_datasets as tfds\n"
   ]
  },
  {
   "cell_type": "code",
   "execution_count": null,
   "metadata": {
    "id": "A-ECKcDiv6v0"
   },
   "outputs": [],
   "source": [
    "def get_batch_data():\n",
    "  \n",
    "  (train_data, test_data), info = tfds.load('imdb_reviews/subwords8k',\n",
    "                                          split=(tfds.Split.TRAIN, tfds.Split.TEST),\n",
    "                                          with_info=True, as_supervised=True)\n",
    "  encoder = info.features['text'].encoder \n",
    "  padded_shapes = ([None], ())\n",
    "  train_batches = train_data.shuffle(1000).padded_batch(10,\n",
    "                                                        padded_shapes=padded_shapes)\n",
    "  test_batches = test_data.shuffle(1000).padded_batch(10, \n",
    "                                                      padded_shapes=padded_shapes)\n",
    "  return train_batches, test_batches, encoder"
   ]
  },
  {
   "cell_type": "code",
   "execution_count": null,
   "metadata": {
    "id": "quRdPJbcxYNw"
   },
   "outputs": [],
   "source": [
    "def get_model(encoder, embedding_dim=16):\n",
    "  embedding_dim =16\n",
    "  model = keras.Sequential([layers.Embedding(encoder.vocab_size,embedding_dim),\n",
    "                          layers.GlobalAveragePooling1D(),\n",
    "                          layers.Dense(1, activation='sigmoid')\n",
    "                          ])\n",
    "\n",
    "  model.compile(optimizer='adam', loss='binary_crossentropy', metrics=['accuracy'])\n",
    "\n",
    "  return model\n",
    "\n"
   ]
  },
  {
   "cell_type": "code",
   "execution_count": null,
   "metadata": {
    "id": "kQm8Qc98ZQQk"
   },
   "outputs": [],
   "source": [
    "def plot_history(history):\n",
    "  history_dict = history.history\n",
    "  acc = history_dict['accuracy']\n",
    "  val_acc = history_dict['val_accuracy']\n",
    "  epochs = range(1, len(acc)+1)\n",
    "  print(type(epochs),epochs)\n",
    "  print(acc)\n",
    "  plt.figure(figsize=(12, 9))\n",
    "  plt.plot(epochs, acc, 'bo', label='Training acc')\n",
    "  plt.plot(epochs, val_acc, 'b', label='Validation acc')\n",
    "  plt.title('Training and validation accuracy')\n",
    "  plt.xlabel('Epochs')\n",
    "  plt.ylabel('Accuracy')\n",
    "  plt.legend(loc='lower right')\n",
    "  plt.ylim((0.5, 1))\n",
    "  plt.show()"
   ]
  },
  {
   "cell_type": "code",
   "execution_count": null,
   "metadata": {
    "id": "99NcfmnSZeZY"
   },
   "outputs": [],
   "source": [
    "\n",
    "def retrieve_embeddings(model, encoder):\n",
    "  out_vectors = io.open('vecs.tsv', 'w', encoding='utf-8')\n",
    "  out_metadata = io.open('meta.tsv', 'w', encoding='utf-8')\n",
    "  weights = model.layers[0].get_weights()[0] # at 0 -> embeddig layer\n",
    "  for num,word in enumerate(encoder.subwords):\n",
    "    vec = weights[num+1]\n",
    "    out_metadata.write(word + '\\n')\n",
    "    out_metadata.write('\\t'.join([str(x) for x in vec])+'\\n')\n",
    "  out_vectors.close()\n",
    "  out_metadata.close()"
   ]
  },
  {
   "cell_type": "code",
   "execution_count": null,
   "metadata": {
    "id": "e7E95c6N7VDz"
   },
   "outputs": [],
   "source": [
    "\n",
    "train_batches, test_batches, encoder = get_batch_data()\n",
    "model = get_model(encoder)\n",
    "history = model.fit(train_batches, epochs=10, validation_data=test_batches,\n",
    "                    validation_steps=20)\n",
    "plot_history(history)\n",
    "\n",
    "retrieve_embeddings(model, encoder)"
   ]
  },
  {
   "cell_type": "code",
   "execution_count": null,
   "metadata": {
    "id": "ju6W232XZB8Q"
   },
   "outputs": [],
   "source": []
  },
  {
   "cell_type": "code",
   "execution_count": null,
   "metadata": {
    "id": "TAGy-7aeZCeg"
   },
   "outputs": [],
   "source": []
  }
 ],
 "metadata": {
  "accelerator": "GPU",
  "colab": {
   "collapsed_sections": [],
   "name": "nlp_tf_freecodecamp.ipynb",
   "provenance": []
  },
  "kernelspec": {
   "display_name": "Python 3",
   "language": "python",
   "name": "python3"
  },
  "language_info": {
   "codemirror_mode": {
    "name": "ipython",
    "version": 3
   },
   "file_extension": ".py",
   "mimetype": "text/x-python",
   "name": "python",
   "nbconvert_exporter": "python",
   "pygments_lexer": "ipython3",
   "version": "3.6.12"
  }
 },
 "nbformat": 4,
 "nbformat_minor": 1
}
