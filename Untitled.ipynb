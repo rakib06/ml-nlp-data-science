{
 "cells": [
  {
   "cell_type": "code",
   "execution_count": null,
   "metadata": {},
   "outputs": [],
   "source": [
    "!pip install tensorflow-datasets\n",
    "import tensorflow_datasets as tfds\n",
    "import tensorflow as tf\n",
    "train_data, test_data = tfds.load(name=\"imdb_reviews\", split=[\"train\", \"test\"], \n",
    "                                  batch_size=-1, as_supervised=True)\n",
    "\n",
    "train_examples, train_labels = tfds.as_numpy(train_data)\n",
    "test_examples, test_labels = tfds.as_numpy(test_data)"
   ]
  },
  {
   "cell_type": "code",
   "execution_count": 1,
   "metadata": {},
   "outputs": [
    {
     "name": "stdout",
     "output_type": "stream",
     "text": [
      "Requirement already satisfied: tensorflow-datasets in c:\\users\\rakibul\\.conda\\envs\\ml-36-common\\lib\\site-packages (4.1.0)\n",
      "Requirement already satisfied: termcolor in c:\\users\\rakibul\\.conda\\envs\\ml-36-common\\lib\\site-packages (from tensorflow-datasets) (1.1.0)\n",
      "Requirement already satisfied: six in c:\\users\\rakibul\\.conda\\envs\\ml-36-common\\lib\\site-packages (from tensorflow-datasets) (1.15.0)\n",
      "Requirement already satisfied: attrs>=18.1.0 in c:\\users\\rakibul\\.conda\\envs\\ml-36-common\\lib\\site-packages (from tensorflow-datasets) (20.3.0)\n",
      "Requirement already satisfied: tqdm in c:\\users\\rakibul\\.conda\\envs\\ml-36-common\\lib\\site-packages (from tensorflow-datasets) (4.51.0)\n",
      "Requirement already satisfied: importlib-resources; python_version < \"3.9\" in c:\\users\\rakibul\\.conda\\envs\\ml-36-common\\lib\\site-packages (from tensorflow-datasets) (3.3.0)\n",
      "Requirement already satisfied: numpy in c:\\users\\rakibul\\.conda\\envs\\ml-36-common\\lib\\site-packages (from tensorflow-datasets) (1.19.4)\n",
      "Requirement already satisfied: typing-extensions; python_version < \"3.8\" in c:\\users\\rakibul\\.conda\\envs\\ml-36-common\\lib\\site-packages (from tensorflow-datasets) (3.7.4.3)\n",
      "Requirement already satisfied: requests>=2.19.0 in c:\\users\\rakibul\\.conda\\envs\\ml-36-common\\lib\\site-packages (from tensorflow-datasets) (2.25.0)\n",
      "Requirement already satisfied: dataclasses; python_version < \"3.7\" in c:\\users\\rakibul\\.conda\\envs\\ml-36-common\\lib\\site-packages (from tensorflow-datasets) (0.8)\n",
      "Requirement already satisfied: tensorflow-metadata in c:\\users\\rakibul\\.conda\\envs\\ml-36-common\\lib\\site-packages (from tensorflow-datasets) (0.25.0)\n",
      "Requirement already satisfied: promise in c:\\users\\rakibul\\.conda\\envs\\ml-36-common\\lib\\site-packages (from tensorflow-datasets) (2.3)\n",
      "Requirement already satisfied: absl-py in c:\\users\\rakibul\\.conda\\envs\\ml-36-common\\lib\\site-packages (from tensorflow-datasets) (0.10.0)\n",
      "Requirement already satisfied: protobuf>=3.6.1 in c:\\users\\rakibul\\.conda\\envs\\ml-36-common\\lib\\site-packages (from tensorflow-datasets) (3.13.0)\n",
      "Requirement already satisfied: dill in c:\\users\\rakibul\\.conda\\envs\\ml-36-common\\lib\\site-packages (from tensorflow-datasets) (0.3.3)\n",
      "Requirement already satisfied: future in c:\\users\\rakibul\\.conda\\envs\\ml-36-common\\lib\\site-packages (from tensorflow-datasets) (0.18.2)\n",
      "Requirement already satisfied: zipp>=0.4; python_version < \"3.8\" in c:\\users\\rakibul\\.conda\\envs\\ml-36-common\\lib\\site-packages (from importlib-resources; python_version < \"3.9\"->tensorflow-datasets) (3.4.0)\n",
      "Requirement already satisfied: certifi>=2017.4.17 in c:\\users\\rakibul\\.conda\\envs\\ml-36-common\\lib\\site-packages (from requests>=2.19.0->tensorflow-datasets) (2020.6.20)\n",
      "Requirement already satisfied: chardet<4,>=3.0.2 in c:\\users\\rakibul\\.conda\\envs\\ml-36-common\\lib\\site-packages (from requests>=2.19.0->tensorflow-datasets) (3.0.4)\n",
      "Requirement already satisfied: idna<3,>=2.5 in c:\\users\\rakibul\\.conda\\envs\\ml-36-common\\lib\\site-packages (from requests>=2.19.0->tensorflow-datasets) (2.10)\n",
      "Requirement already satisfied: urllib3<1.27,>=1.21.1 in c:\\users\\rakibul\\.conda\\envs\\ml-36-common\\lib\\site-packages (from requests>=2.19.0->tensorflow-datasets) (1.26.2)\n",
      "Requirement already satisfied: googleapis-common-protos<2,>=1.52.0 in c:\\users\\rakibul\\.conda\\envs\\ml-36-common\\lib\\site-packages (from tensorflow-metadata->tensorflow-datasets) (1.52.0)\n",
      "Requirement already satisfied: setuptools in c:\\users\\rakibul\\.conda\\envs\\ml-36-common\\lib\\site-packages (from protobuf>=3.6.1->tensorflow-datasets) (50.3.1.post20201107)\n"
     ]
    }
   ],
   "source": [
    "!pip install tensorflow-datasets"
   ]
  },
  {
   "cell_type": "code",
   "execution_count": null,
   "metadata": {},
   "outputs": [],
   "source": []
  }
 ],
 "metadata": {
  "kernelspec": {
   "display_name": "Python 3",
   "language": "python",
   "name": "python3"
  },
  "language_info": {
   "codemirror_mode": {
    "name": "ipython",
    "version": 3
   },
   "file_extension": ".py",
   "mimetype": "text/x-python",
   "name": "python",
   "nbconvert_exporter": "python",
   "pygments_lexer": "ipython3",
   "version": "3.6.12"
  }
 },
 "nbformat": 4,
 "nbformat_minor": 4
}
